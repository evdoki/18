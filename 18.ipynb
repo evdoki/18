{
 "cells": [
  {
   "cell_type": "raw",
   "metadata": {},
   "source": [
    "Модуль http.cookies"
   ]
  },
  {
   "cell_type": "markdown",
   "metadata": {},
   "source": [
    "Cookies (печеньки) — небольшой фрагмент данных, отправленный веб-сервером и сохраняемый на компьютере пользователя. Браузер всякий раз при попытке открыть страницу соответствующего сайта пересылает этот фрагмент данных веб-серверу в составе HTTP-запроса.\n",
    "Собственно, cookies - хороший способ сохранить некоторые данные о пользователях."
   ]
  },
  {
   "cell_type": "code",
   "execution_count": 12,
   "metadata": {},
   "outputs": [
    {
     "name": "stdout",
     "output_type": "stream",
     "text": [
      "Set-cookie: name=value; expires=Wed May 18 03:33:20 2033; path=/cgi-bin/; httponly\n",
      "Content-type: text/html\n",
      "\n",
      "Cookies!!!\n"
     ]
    }
   ],
   "source": [
    "#!/usr/bin/env python3\n",
    "print(\"Set-cookie: name=value; expires=Wed May 18 03:33:20 2033; path=/cgi-bin/; httponly\")\n",
    "\n",
    "print(\"Content-type: text/html\\n\")\n",
    "print(\"Cookies!!!\")"
   ]
  },
  {
   "cell_type": "markdown",
   "metadata": {},
   "source": [
    "Например, если сохранить этот скрипт в /cgi-bin/cookie.py и зайти на localhost:8000/cgi-bin/cookie.py, то вам поставится печенька с именем name и значением value. Срок её хранения до мая 2033 года, отправляется повторно на сервер только к скриптам, которые расположены в /cgi-bin/, и передается только http-запросами (её нельзя получить из браузера пользователя с помощью javascript)."
   ]
  },
  {
   "cell_type": "code",
   "execution_count": 19,
   "metadata": {},
   "outputs": [
    {
     "name": "stdout",
     "output_type": "stream",
     "text": [
      "Set-cookie: name=value\n",
      "Content-type: text/html\n",
      "\n",
      "Cookies!!!\n"
     ]
    }
   ],
   "source": [
    "#!/usr/bin/env python3\n",
    "print(\"Set-cookie: name=value\")\n",
    "\n",
    "print(\"Content-type: text/html\\n\")\n",
    "print(\"Cookies!!!\")"
   ]
  },
  {
   "cell_type": "markdown",
   "metadata": {},
   "source": [
    "Тогда храниться она будет до того момента, когда закроется браузер, будет отправляться на сервер для любых документов (и для /index.html тоже, в отличие от предыдущего случая). Также её можно будет получить средствами javascript (поскольку не был установлен флаг httponly)."
   ]
  },
  {
   "cell_type": "raw",
   "metadata": {},
   "source": [
    "NAME=VALUE - строка символов. NAME-имя cookie, VALUE - значение.\n",
    "\n",
    "expires=DATE - время хранения cookie, т.е. вместо DATE должна стоять дата в формате Wdy, DD-Mon-YYYY HH:MM:SS GMT, после которой истекает время хранения cookie. Если этот атрибут не указан, то cookie хранится в течение одного сеанса, до закрытия броузера.\n",
    "\n",
    "domain=DOMAIN_NAME - домен, для которого значение cookie действительно. Например, domain=cit-forum.com. В этом случае значение cookie будет действительно и для сервера cit-forum.com, и для www.cit-forum.com. Но не радуйтесь, указания двух последних периодов доменных имен хватает только для доменов иерархии \"COM\", \"EDU\", \"NET\", \"ORG\", \"GOV\", \"MIL\", и \"INT\". Для доменов иерархии \"RU\" придется указывать три периода.\n",
    "\n",
    "Если этот атрибут опущен, то по умолчанию используется доменное имя сервера, с которого было выставлено значение cookie.\n",
    "\n",
    "path=PATH - этот атрибут устанавливает подмножество документов, для которых действительно значание cookie. Например, указание path=/win приведет к тому, что значение cookie будет действительно для множества документов в директории /win/, в директории /wings/ и файлов в текущей директории с именами типа wind.html и windows.shtml\n",
    "\n",
    "Если этот атрибут не указан, то значение cookie распространяется только на документы в той же директории, что и документ, в котором было установлено cookie.\n",
    "\n",
    "secure - если стоит такой маркер, то информация cookie пересылается только через HTTPS (HTTP с использованием SSL). Если этот маркер не указан, то информация пересылается обычным способом."
   ]
  },
  {
   "cell_type": "raw",
   "metadata": {},
   "source": []
  },
  {
   "cell_type": "raw",
   "metadata": {},
   "source": [
    "exception http.cookies.CookieError"
   ]
  },
  {
   "cell_type": "markdown",
   "metadata": {},
   "source": [
    "Исключение могут проиходить из-за недействительность RFC 2109 : неверные атрибуты, неверный заголовок Set-Cookie и т.д."
   ]
  },
  {
   "cell_type": "markdown",
   "metadata": {},
   "source": [
    "При обнаружении недействительного файла cookie возникает CookieError, если ваши данные cookie поступают из браузера, вы всегда должны быть готовы к недопустимым данным и уловить их CookieError при синтаксическом анализе."
   ]
  },
  {
   "cell_type": "raw",
   "metadata": {},
   "source": [
    "class http.cookies.BaseCookie([input])"
   ]
  },
  {
   "cell_type": "markdown",
   "metadata": {},
   "source": [
    "Этот класс - подобный словарю, ключи которого являются строками, а значения - Morsel экземплярами. Обратите внимание, что при установке ключа в значение, значение сначала преобразуется в Morsel, содержащий ключ и значение."
   ]
  },
  {
   "cell_type": "raw",
   "metadata": {},
   "source": [
    "class http.cookies.SimpleCookie([input])"
   ]
  },
  {
   "cell_type": "markdown",
   "metadata": {},
   "source": [
    "Этот класс является производным от BaseCookie и переопределяет value_decode() и value_encode(). SimpleCookie поддерживает строки как значения файлов cookie. При установке значения SimpleCookie вызывает встроенную функцию str() для преобразования значения в строку. Значения, полученные от HTTP, хранятся в виде строк."
   ]
  },
  {
   "cell_type": "code",
   "execution_count": 20,
   "metadata": {},
   "outputs": [
    {
     "name": "stdout",
     "output_type": "stream",
     "text": [
      "Set-Cookie: number=7\n",
      "Set-Cookie: string=seven\n"
     ]
    }
   ],
   "source": [
    "import http.cookies\n",
    "C = http.cookies.SimpleCookie()\n",
    "C[\"twix\"] = \"none for you\"\n",
    "C[\"twix\"].value\n",
    "C = http.cookies.SimpleCookie()\n",
    "C[\"number\"] = 7 \n",
    "C[\"string\"] = \"seven\"\n",
    "C[\"number\"].value\n",
    "C[\"string\"].value\n",
    "print(C)"
   ]
  },
  {
   "cell_type": "code",
   "execution_count": 21,
   "metadata": {},
   "outputs": [
    {
     "name": "stdout",
     "output_type": "stream",
     "text": [
      "Set-Cookie: fig=newton\n",
      "Set-Cookie: sugar=wafer\n"
     ]
    }
   ],
   "source": [
    "from http import cookies\n",
    "C = cookies.SimpleCookie()\n",
    "C[\"fig\"] = \"newton\"\n",
    "C[\"sugar\"] = \"wafer\"\n",
    "print(C) "
   ]
  },
  {
   "cell_type": "markdown",
   "metadata": {},
   "source": [
    "Объекты"
   ]
  },
  {
   "cell_type": "raw",
   "metadata": {},
   "source": [
    "1) BaseCookie.value_decode(val)"
   ]
  },
  {
   "cell_type": "markdown",
   "metadata": {},
   "source": [
    "Возвращает кортеж (real_value, coded_value) из строкового представления. real_value может быть любого типа. Этот метод не выполняет декодирования BaseCookie."
   ]
  },
  {
   "cell_type": "raw",
   "metadata": {},
   "source": [
    "2) BaseCookie.value_encode(val)"
   ]
  },
  {
   "cell_type": "markdown",
   "metadata": {},
   "source": [
    "Возвращает кортеж (real_value, coded_value). val может быть любого типа, но coded_value всегда будет преобразован в строку. Этот метод не выполнения кодирования BaseCookie."
   ]
  },
  {
   "cell_type": "raw",
   "metadata": {},
   "source": [
    "3) BaseCookie.output(attrs=None, header='Set-Cookie:', sep='\\r\\n')"
   ]
  },
  {
   "cell_type": "markdown",
   "metadata": {},
   "source": [
    "Возвращает строковое представление, подходящее для отправки в виде заголовков HTTP. attrs и header посылается к каждому Morsel's output() методе. sep используется для объединения заголовков и по умолчанию является комбинацией '\\r\\n'."
   ]
  },
  {
   "cell_type": "code",
   "execution_count": 22,
   "metadata": {},
   "outputs": [
    {
     "name": "stdout",
     "output_type": "stream",
     "text": [
      "Set-Cookie: fig=newton\n",
      "Set-Cookie: sugar=wafer\n"
     ]
    }
   ],
   "source": [
    "print(C.output()) "
   ]
  },
  {
   "cell_type": "code",
   "execution_count": 23,
   "metadata": {},
   "outputs": [
    {
     "name": "stdout",
     "output_type": "stream",
     "text": [
      "Cookie: rocky=road; Path=/cookie\n"
     ]
    }
   ],
   "source": [
    "C = cookies.SimpleCookie()\n",
    "C[\"rocky\"] = \"road\"\n",
    "C[\"rocky\"][\"path\"] = \"/cookie\"\n",
    "print(C.output(header=\"Cookie:\"))"
   ]
  },
  {
   "cell_type": "code",
   "execution_count": 24,
   "metadata": {},
   "outputs": [
    {
     "name": "stdout",
     "output_type": "stream",
     "text": [
      "Cookie: rocky=road\n"
     ]
    }
   ],
   "source": [
    "print(C.output(attrs=[], header=\"Cookie:\"))"
   ]
  },
  {
   "cell_type": "raw",
   "metadata": {},
   "source": [
    "4) BaseCookie.js_output(attrs=None)"
   ]
  },
  {
   "cell_type": "markdown",
   "metadata": {},
   "source": [
    "Возвращает встраиваемый фрагмент кода JavaScript, который при запуске в браузере, поддерживающем JavaScript, будет действовать так же, как если бы были отправлены заголовки HTTP."
   ]
  },
  {
   "cell_type": "raw",
   "metadata": {},
   "source": [
    "5) BaseCookie.load(rawdata)"
   ]
  },
  {
   "cell_type": "markdown",
   "metadata": {},
   "source": [
    "Если rawdata является строкой, анализирует ее как HTTP_COOKIE и добавляет найденные там значения как Morsels. Если это словарь, он эквивалентен:"
   ]
  },
  {
   "cell_type": "code",
   "execution_count": 25,
   "metadata": {},
   "outputs": [
    {
     "name": "stdout",
     "output_type": "stream",
     "text": [
      "Set-Cookie: chips=ahoy\n",
      "Set-Cookie: vienna=finger\n",
      "Set-Cookie: keebler=\"E=everybody; L=\\\"Loves\\\"; fudge=\\012;\"\n"
     ]
    }
   ],
   "source": [
    "C = cookies.SimpleCookie()\n",
    "C.load(\"chips=ahoy; vienna=finger\") # load from a string (HTTP header)\n",
    "print(C)\n",
    "C = cookies.SimpleCookie()\n",
    "C.load('keebler=\"E=everybody; L=\\\\\"Loves\\\\\"; fudge=\\\\012;\";')\n",
    "print(C)"
   ]
  },
  {
   "cell_type": "raw",
   "metadata": {},
   "source": [
    "class http.cookies.Morsel"
   ]
  },
  {
   "cell_type": "markdown",
   "metadata": {},
   "source": [
    "1) Morsel.value"
   ]
  },
  {
   "cell_type": "markdown",
   "metadata": {},
   "source": [
    "2) Morsel.coded_value"
   ]
  },
  {
   "cell_type": "markdown",
   "metadata": {},
   "source": [
    "3) Morsel.key"
   ]
  },
  {
   "cell_type": "markdown",
   "metadata": {},
   "source": [
    "4) Morsel.set(key, value, coded_value)"
   ]
  },
  {
   "cell_type": "markdown",
   "metadata": {},
   "source": [
    "5) Morsel.isReservedKey(K) \n",
    "(Является ли K членом набора ключей Morsel)"
   ]
  },
  {
   "cell_type": "markdown",
   "metadata": {},
   "source": [
    "6) Morsel.output(attrs=None, header='Set-Cookie:')\n",
    "Возвращает строковое представление Morsel, подходящее для отправки в качестве заголовка HTTP. По умолчанию включены все атрибуты, если не указано attrs , и в этом случае это должен быть список атрибутов для использования. header по умолчанию \"Set-Cookie:\"."
   ]
  },
  {
   "cell_type": "markdown",
   "metadata": {},
   "source": [
    "7) Morsel.js_output(attrs=None)\n",
    "Возвращает встраиваемый фрагмент кода JavaScript, который при запуске в браузере, поддерживающем JavaScript, будет действовать так же, как если бы был отправлен заголовок HTTP."
   ]
  },
  {
   "cell_type": "markdown",
   "metadata": {},
   "source": [
    "8) Morsel.OutputString(attrs=None)\n",
    "Возвращает строку, представляющую Morsel, без каких-либо окружающих HTTP или JavaScript."
   ]
  },
  {
   "cell_type": "markdown",
   "metadata": {},
   "source": [
    "9) Morsel.update(values)\n",
    "Обновляет значения в словаре Morsel значениями из значений словаря. Вызывает ошибку, если какой-либо из ключей в dict не является допустимым."
   ]
  },
  {
   "cell_type": "markdown",
   "metadata": {},
   "source": [
    "10) Morsel.copy(value)\n",
    "Возвращает копию объекта Morsel."
   ]
  },
  {
   "cell_type": "code",
   "execution_count": 26,
   "metadata": {},
   "outputs": [
    {
     "name": "stdout",
     "output_type": "stream",
     "text": [
      "b'<!DOCTYPE html>\\r\\n<html lang=\"ru\">\\r\\n<head>\\r\\n\\t<title'\n",
      "the cookies are: \n",
      "<Cookie PHPSESSID=30c402040c6fa8999c1284e3764a1f0e for student.unecon.ru/>\n"
     ]
    }
   ],
   "source": [
    "from urllib.request import Request, build_opener, HTTPCookieProcessor, HTTPHandler\n",
    "import http.cookiejar\n",
    "\n",
    "#Создаём объект CookieJar для хранения файлов cookie\n",
    "cj = http.cookiejar.CookieJar()\n",
    "\n",
    "#Создаём средство открытия для открытия страниц с использованием протокола http и обработки файлов cookie\n",
    "opener = build_opener(HTTPCookieProcessor(cj), HTTPHandler())\n",
    "\n",
    "#Создаём объект запроса, который будет использоваться для получения страницы\n",
    "req = Request(\"http://student.unecon.ru\")\n",
    "f = opener.open(req)\n",
    "\n",
    "#смотрим первые несколько строк страницы\n",
    "html = f.read()\n",
    "print(html[:50])\n",
    "\n",
    "#Проверяем куки\n",
    "print(\"the cookies are: \")\n",
    "for cookie in cj:\n",
    "    print(cookie)\n"
   ]
  },
  {
   "cell_type": "markdown",
   "metadata": {},
   "source": [
    "Получение куки-файла из HTTP-запроса, сохранение на жесткий диск:"
   ]
  },
  {
   "cell_type": "code",
   "execution_count": 10,
   "metadata": {},
   "outputs": [
    {
     "name": "stdout",
     "output_type": "stream",
     "text": [
      "1P_JAR 2020-12-04-08\n",
      "NID 204=hTReZuYgSrxDBowTfvuiwyTGSyhOcO5_P7HFP3--JjUdGsiRDdRLo_3karlUlOPR0dvTcYvcRzaTJrgYKhmDeh3fwowaCeUDGDSavth2LSSd5UMt0LR_p_RYIRtMNYiGG7BnSosnRHPsleZ60XSWSl38NPI7lrXxxs0oFNnWuHc\n",
      "1P_JAR 2020-12-04-08\n",
      "NID 204=hTReZuYgSrxDBowTfvuiwyTGSyhOcO5_P7HFP3--JjUdGsiRDdRLo_3karlUlOPR0dvTcYvcRzaTJrgYKhmDeh3fwowaCeUDGDSavth2LSSd5UMt0LR_p_RYIRtMNYiGG7BnSosnRHPsleZ60XSWSl38NPI7lrXxxs0oFNnWuHc\n"
     ]
    }
   ],
   "source": [
    "from urllib.request import Request, build_opener, HTTPCookieProcessor, HTTPHandler, HTTPSHandler\n",
    "import http.cookiejar\n",
    "\n",
    "cookies = http.cookiejar.LWPCookieJar()\n",
    "handlers = [\n",
    "    HTTPHandler(),\n",
    "    HTTPSHandler(),\n",
    "    HTTPCookieProcessor(cookies)\n",
    "    ]\n",
    "opener = build_opener(*handlers)\n",
    "\n",
    "def fetch(uri):\n",
    "    req = Request(uri)\n",
    "    return opener.open(req)\n",
    "\n",
    "def dump():\n",
    "    for cookie in cookies:\n",
    "        print(cookie.name, cookie.value)\n",
    "\n",
    "uri = 'http://www.google.com/'\n",
    "res = fetch(uri)\n",
    "dump()\n",
    "\n",
    "res = fetch(uri)\n",
    "dump()\n",
    "\n",
    "# save cookies to disk. you can load them with cookies.load() as well.\n",
    "cookies.save('mycookies.txt')"
   ]
  },
  {
   "cell_type": "markdown",
   "metadata": {},
   "source": [
    "Еще больше примеров использования куки:"
   ]
  },
  {
   "cell_type": "code",
   "execution_count": null,
   "metadata": {},
   "outputs": [],
   "source": [
    "import webbrowser\n",
    "webbrowser.open_new_tab('https://www.programcreek.com/python/example/4486/Cookie.Morsel')"
   ]
  },
  {
   "cell_type": "markdown",
   "metadata": {},
   "source": []
  },
  {
   "cell_type": "raw",
   "metadata": {},
   "source": [
    "Модуль webbrowser - \n",
    "это вшитый в Python модуль, который предоставляет собой высокоуровневый интерфейс, позволяющий просматривать веб-документы."
   ]
  },
  {
   "cell_type": "raw",
   "metadata": {},
   "source": [
    "exception webbrowser.Error"
   ]
  },
  {
   "cell_type": "markdown",
   "metadata": {},
   "source": [
    "Исключение возникает при неправильном управления браузером."
   ]
  },
  {
   "cell_type": "raw",
   "metadata": {},
   "source": [
    "1) webbrowser.open(url, new=0, autoraise=True)"
   ]
  },
  {
   "cell_type": "markdown",
   "metadata": {},
   "source": [
    "Отображает URL с использованием браузера по умолчанию. Если new=0, URL-адрес открывается в том же окне браузера, если это возможно. Если new=1, по возможности открывается новое окно браузера. Если new=2, по возможности открывается новая страница браузера («вкладка»). Если AutoRaise=True, окно появляется, если это возможно (обратите внимание , что при многих оконных менеджеров это будет происходить независимо от значения этой переменной)."
   ]
  },
  {
   "cell_type": "markdown",
   "metadata": {},
   "source": [
    "2) webbrowser.open_new(url)\n",
    "Открывается URL в новом окне браузера по умолчанию, если это возможно, в противном случае, откроет URL в единственном окне браузера"
   ]
  },
  {
   "cell_type": "markdown",
   "metadata": {},
   "source": [
    "3) webbrowser.open_new_tab(url)\n",
    "В этом случае URL-адрес откроется на новой странице (”tab\") браузера по умолчанию, если это возможно, в противном случае эквивалентно open_new ()."
   ]
  },
  {
   "cell_type": "markdown",
   "metadata": {},
   "source": [
    "Предположим, что вам не нужен браузер по умолчанию. Для выбора браузера существует классная команда .get()"
   ]
  },
  {
   "cell_type": "code",
   "execution_count": null,
   "metadata": {},
   "outputs": [],
   "source": [
    "webbrowser.get(using=None)"
   ]
  },
  {
   "cell_type": "markdown",
   "metadata": {},
   "source": [
    "Грубо говоря, просто указываем какой браузер вам использовать.\n",
    "\n",
    "Например, открытие новой вкладки в Google Chrome:"
   ]
  },
  {
   "cell_type": "code",
   "execution_count": 11,
   "metadata": {},
   "outputs": [
    {
     "data": {
      "text/plain": [
       "True"
      ]
     },
     "execution_count": 11,
     "metadata": {},
     "output_type": "execute_result"
    }
   ],
   "source": [
    "import webbrowser\n",
    "webbrowser.get(using=None).open_new('https://vk.com')"
   ]
  },
  {
   "cell_type": "markdown",
   "metadata": {},
   "source": [
    "Но не всегда получается обойтись одним только .get() и в этом случае на помощь приходит функция .register(), например:"
   ]
  },
  {
   "cell_type": "code",
   "execution_count": 28,
   "metadata": {},
   "outputs": [
    {
     "data": {
      "text/plain": [
       "True"
      ]
     },
     "execution_count": 28,
     "metadata": {},
     "output_type": "execute_result"
    }
   ],
   "source": [
    "import webbrowser\n",
    "webbrowser.register('Chrome', None, webbrowser.BackgroundBrowser('C:\\Program Files (x86)\\Google\\Chrome\\Application\\chrome.exe'))\n",
    "webbrowser.get('Chrome').open_new_tab('vk.com')"
   ]
  },
  {
   "cell_type": "markdown",
   "metadata": {},
   "source": [
    "Мы указали путь к Google Chrome, назвали его и теперь все ссылки открываются только в нём."
   ]
  },
  {
   "cell_type": "code",
   "execution_count": 1,
   "metadata": {},
   "outputs": [
    {
     "data": {
      "text/plain": [
       "True"
      ]
     },
     "execution_count": 1,
     "metadata": {},
     "output_type": "execute_result"
    }
   ],
   "source": [
    "import webbrowser\n",
    "webbrowser.open_new_tab('https://welcome.stepik.org/ru')\n",
    "webbrowser.open_new_tab('яблоки')"
   ]
  },
  {
   "cell_type": "markdown",
   "metadata": {},
   "source": [
    "Решение проблемы придумайте сами :)"
   ]
  },
  {
   "cell_type": "markdown",
   "metadata": {},
   "source": [
    "Если будут еще нужны примеры, то стоит запустить код ниже:"
   ]
  },
  {
   "cell_type": "code",
   "execution_count": 30,
   "metadata": {},
   "outputs": [
    {
     "data": {
      "text/plain": [
       "True"
      ]
     },
     "execution_count": 30,
     "metadata": {},
     "output_type": "execute_result"
    }
   ],
   "source": [
    "webbrowser.open_new_tab('https://riptutorial.com/ru/python/topic/8676/%D0%BC%D0%BE%D0%B4%D1%83%D0%BB%D1%8C-webbrowser')"
   ]
  },
  {
   "cell_type": "raw",
   "metadata": {},
   "source": []
  },
  {
   "cell_type": "markdown",
   "metadata": {},
   "source": []
  },
  {
   "cell_type": "raw",
   "metadata": {},
   "source": [
    "Следующий модуль - uuid"
   ]
  },
  {
   "cell_type": "markdown",
   "metadata": {},
   "source": [
    "В основном используется для генерации уникальных последовательностей."
   ]
  },
  {
   "cell_type": "code",
   "execution_count": null,
   "metadata": {},
   "outputs": [],
   "source": [
    "class uuid.SafeUUID"
   ]
  },
  {
   "cell_type": "markdown",
   "metadata": {},
   "source": [
    "safe\n",
    "UUID был сгенерирован платформой многопроцесснобезопасным способом."
   ]
  },
  {
   "cell_type": "markdown",
   "metadata": {},
   "source": [
    "unsafe\n",
    "UUID не был создан многопроцесснобезопасным способом."
   ]
  },
  {
   "cell_type": "markdown",
   "metadata": {},
   "source": [
    "unknown\n",
    "Платформа не предоставляет информацию о том, был ли UUID сгенерирован безопасно или нет."
   ]
  },
  {
   "cell_type": "code",
   "execution_count": 35,
   "metadata": {},
   "outputs": [
    {
     "data": {
      "text/plain": [
       "UUID('00010203-0405-0607-0809-0a0b0c0d0e0f')"
      ]
     },
     "execution_count": 35,
     "metadata": {},
     "output_type": "execute_result"
    }
   ],
   "source": [
    "import uuid\n",
    "# создаём UUID из строки шестнадцатеричных цифр (фигурные скобки и дефисы игнорируются)\n",
    "x = uuid.UUID('{00010203-0405-0607-0809-0a0b0c0d0e0f}')\n",
    "uuid.UUID(bytes=x.bytes)"
   ]
  },
  {
   "cell_type": "markdown",
   "metadata": {},
   "source": [
    "UUID.bytes\n",
    "UUID в виде 16-байтовой строки (содержащей шесть целочисленных полей в обратном порядке байтов)."
   ]
  },
  {
   "cell_type": "markdown",
   "metadata": {},
   "source": [
    "UUID.bytes_le\n",
    "UUID в виде 16-байтовой строки (с time_low , time_mid и time_hi_version в обратном порядке байтов)."
   ]
  },
  {
   "cell_type": "markdown",
   "metadata": {
    "jupyter": {
     "source_hidden": true
    }
   },
   "source": [
    "time_low\n",
    "\n",
    "32-битное целое число без знака\n",
    "\n",
    "0-3\n",
    "\n",
    "Нижнее поле отметки времени\n",
    "\n",
    "time_mid\n",
    "\n",
    "16-битное целое без знака\n",
    "\n",
    "4-5\n",
    "\n",
    "Среднее поле отметки времени\n",
    "\n",
    "time_hi_and_version\n",
    "\n",
    "16-битное целое без знака\n",
    "\n",
    "6-7\n",
    "\n",
    "Верхнее поле метки времени мультиплексируется с номером версии\n",
    "\n",
    "clock_seq_hi_and_reserved\n",
    "\n",
    "беззнаковое 8-битное целое число\n",
    "\n",
    "8\n",
    "\n",
    "Верхнее поле тактовой последовательности мультиплексируется с вариантом\n",
    "\n",
    "clock_seq_low\n",
    "\n",
    "беззнаковое 8-битное целое число\n",
    "\n",
    "9\n",
    "\n",
    "Нижнее поле тактовой последовательности\n",
    "\n",
    "узел\n",
    "\n",
    "беззнаковое 48-битное целое число\n",
    "\n",
    "10-15\n",
    "\n",
    "Пространственно уникальный идентификатор узла (сетевой MAC-адрес)\n",
    "\n",
    "Пример: 4d2d6344-fb4a-11e5-ba94-005052f01cd4.\n",
    "\n",
    "| Октет | 0 - 3 | 4 - 5 | 6 - 7 | 8 | 9 | 10 - 15 |\n",
    "-------- | ---------- ± ------ ± ------ ± - ± --- ± ---------- ----\n",
    "| 4d2d6344 | fb4a | 11e5 | ба | 94 | 005052f01cd4 |"
   ]
  },
  {
   "cell_type": "markdown",
   "metadata": {},
   "source": [
    "UUID.fields\n",
    "Кортеж из шести целочисленных полей UUID, которые также доступны как шесть отдельных атрибутов и два производных атрибута:"
   ]
  },
  {
   "cell_type": "markdown",
   "metadata": {},
   "source": [
    "UUID.hex\n",
    "UUID в виде 32-символьной шестнадцатеричной строки."
   ]
  },
  {
   "cell_type": "markdown",
   "metadata": {},
   "source": [
    "UUID.int\n",
    "UUID как 128-битное целое число."
   ]
  },
  {
   "cell_type": "markdown",
   "metadata": {},
   "source": [
    "UUID.urn\n",
    "UUID как URN, как указано в RFC 4122 ."
   ]
  },
  {
   "cell_type": "markdown",
   "metadata": {},
   "source": [
    "UUID.variant\n",
    "Вариант UUID, который определяет внутреннюю структуру UUID. Это будет одна из констант RESERVED_NCS, RFC_4122, RESERVED_MICROSOFT, или RESERVED_FUTURE."
   ]
  },
  {
   "cell_type": "markdown",
   "metadata": {},
   "source": [
    "UUID.version\n",
    "Номер версии UUID (от 1 до 5, имеет значение, только если есть вариант RFC_4122)."
   ]
  },
  {
   "cell_type": "markdown",
   "metadata": {},
   "source": [
    "UUID.is_safe\n",
    "Перечисление, SafeUUIDкоторое указывает, сгенерировала ли платформа UUID безопасным для многопроцессорной обработки способом."
   ]
  },
  {
   "cell_type": "raw",
   "metadata": {},
   "source": [
    "Модуль определякт следующие функции:"
   ]
  },
  {
   "cell_type": "markdown",
   "metadata": {},
   "source": [
    "Функция getnode() модуля uuid возвращает аппаратный адрес (MAC-адрес) в виде 48-битного натурального числа.\n",
    "\n",
    "При первом запуске функция uuid.getnode может запустить отдельную программу, которая может быть довольно медленной. Если все попытки получить аппаратный адрес не удаются, то выбирается случайное 48-битное число с многоадресным битом, младший значащий бит первого октета равным 1, как рекомендуется в RFC 4122.\n",
    "\n",
    "\"Аппаратный адрес\" - означает MAC-адрес сетевого интерфейса. На машине с несколькими сетевыми интерфейсами универсально управляемые MAC-адреса (то есть, когда второй младший бит первого октета не установлен) будут предпочтительнее локально управляемых MAC-адресов, но без других гарантий упорядочения."
   ]
  },
  {
   "cell_type": "code",
   "execution_count": 36,
   "metadata": {},
   "outputs": [
    {
     "data": {
      "text/plain": [
       "242944914360652"
      ]
     },
     "execution_count": 36,
     "metadata": {},
     "output_type": "execute_result"
    }
   ],
   "source": [
    "uuid.getnode()"
   ]
  },
  {
   "cell_type": "code",
   "execution_count": 37,
   "metadata": {},
   "outputs": [
    {
     "data": {
      "text/plain": [
       "'0xdcf50552094c'"
      ]
     },
     "execution_count": 37,
     "metadata": {},
     "output_type": "execute_result"
    }
   ],
   "source": [
    "hex(uuid.getnode())"
   ]
  },
  {
   "cell_type": "code",
   "execution_count": 38,
   "metadata": {},
   "outputs": [
    {
     "data": {
      "text/plain": [
       "UUID('7390e9fa-3592-11eb-823f-dcf50552094c')"
      ]
     },
     "execution_count": 38,
     "metadata": {},
     "output_type": "execute_result"
    }
   ],
   "source": [
    "# создать UUID на основе идентификатора хоста и текущего времени\n",
    "uuid.uuid1(node=None, clock_seq=None)"
   ]
  },
  {
   "cell_type": "markdown",
   "metadata": {},
   "source": [
    "Генерирует UUID из узла ID, порядкового номера и текущего времени\n",
    "Если node не задан, getnode() используется чтобы получить аппаратный адрес. Если clock_seq дан, он используется в качестве порядкового номера; в противном случае выбирается случайный 14-битовый порядковый номер."
   ]
  },
  {
   "cell_type": "code",
   "execution_count": null,
   "metadata": {},
   "outputs": [],
   "source": [
    "uuid.uuid3(namespace, name)"
   ]
  },
  {
   "cell_type": "markdown",
   "metadata": {},
   "source": [
    "Генерирует  UUID на основе хэша MD5 идентификатора пространства имен (который является UUID) и имени (которое является строкой)."
   ]
  },
  {
   "cell_type": "code",
   "execution_count": 40,
   "metadata": {},
   "outputs": [
    {
     "data": {
      "text/plain": [
       "UUID('c0898f5e-3374-4b75-9b24-d69dafc7becb')"
      ]
     },
     "execution_count": 40,
     "metadata": {},
     "output_type": "execute_result"
    }
   ],
   "source": [
    "uuid.uuid4()"
   ]
  },
  {
   "cell_type": "markdown",
   "metadata": {},
   "source": [
    "Создает случайный UUID"
   ]
  },
  {
   "cell_type": "code",
   "execution_count": null,
   "metadata": {},
   "outputs": [],
   "source": [
    "uuid.uuid5(namespace, name)"
   ]
  },
  {
   "cell_type": "code",
   "execution_count": 42,
   "metadata": {},
   "outputs": [
    {
     "data": {
      "text/plain": [
       "UUID('886313e1-3b8a-5372-9b90-0c9aee199e5d')"
      ]
     },
     "execution_count": 42,
     "metadata": {},
     "output_type": "execute_result"
    }
   ],
   "source": [
    "# сделать UUID используя хэш SHA-1 пространства имен UUID и имя\n",
    "uuid.uuid5(uuid.NAMESPACE_DNS, 'python.org')"
   ]
  },
  {
   "cell_type": "markdown",
   "metadata": {},
   "source": [
    "Создаёт UUID на основе хэша SHA-1 идентификатора пространства имен (который является UUID) и имени (который является строка)."
   ]
  },
  {
   "cell_type": "markdown",
   "metadata": {},
   "source": [
    "Модуль uuid определяет следующие идентификаторы пространства имен для использования с uuid3() или uuid5()."
   ]
  },
  {
   "cell_type": "code",
   "execution_count": 43,
   "metadata": {},
   "outputs": [
    {
     "data": {
      "text/plain": [
       "UUID('6ba7b810-9dad-11d1-80b4-00c04fd430c8')"
      ]
     },
     "execution_count": 43,
     "metadata": {},
     "output_type": "execute_result"
    }
   ],
   "source": [
    "uuid.NAMESPACE_DNS"
   ]
  },
  {
   "cell_type": "markdown",
   "metadata": {},
   "source": [
    "Если указано это пространство имен, name строка является полным доменным именем."
   ]
  },
  {
   "cell_type": "code",
   "execution_count": 44,
   "metadata": {},
   "outputs": [
    {
     "data": {
      "text/plain": [
       "UUID('6fa459ea-ee8a-3ca4-894e-db77e160355e')"
      ]
     },
     "execution_count": 44,
     "metadata": {},
     "output_type": "execute_result"
    }
   ],
   "source": [
    "# создаем UUID, используя хеш MD5 для UUID пространства имен UUID и имени\n",
    "uuid.uuid3(uuid.NAMESPACE_DNS, 'python.org')"
   ]
  },
  {
   "cell_type": "code",
   "execution_count": 45,
   "metadata": {},
   "outputs": [
    {
     "data": {
      "text/plain": [
       "UUID('6ba7b811-9dad-11d1-80b4-00c04fd430c8')"
      ]
     },
     "execution_count": 45,
     "metadata": {},
     "output_type": "execute_result"
    }
   ],
   "source": [
    "uuid.NAMESPACE_URL"
   ]
  },
  {
   "cell_type": "markdown",
   "metadata": {},
   "source": [
    "Если указано это пространство имен, name строка является URL- адресом."
   ]
  },
  {
   "cell_type": "code",
   "execution_count": 46,
   "metadata": {},
   "outputs": [
    {
     "data": {
      "text/plain": [
       "UUID('6ba7b812-9dad-11d1-80b4-00c04fd430c8')"
      ]
     },
     "execution_count": 46,
     "metadata": {},
     "output_type": "execute_result"
    }
   ],
   "source": [
    "uuid.NAMESPACE_OID"
   ]
  },
  {
   "cell_type": "markdown",
   "metadata": {},
   "source": [
    "Если указано это пространство имен, name строка является OID ISO (стандартный индефикатор)."
   ]
  },
  {
   "cell_type": "code",
   "execution_count": 47,
   "metadata": {},
   "outputs": [
    {
     "data": {
      "text/plain": [
       "UUID('6ba7b814-9dad-11d1-80b4-00c04fd430c8')"
      ]
     },
     "execution_count": 47,
     "metadata": {},
     "output_type": "execute_result"
    }
   ],
   "source": [
    "uuid.NAMESPACE_X500"
   ]
  },
  {
   "cell_type": "markdown",
   "metadata": {},
   "source": [
    "Если указано это пространство имен, то name строка является X.500 DN в формате DER или текстовом формате вывода."
   ]
  },
  {
   "cell_type": "code",
   "execution_count": 48,
   "metadata": {},
   "outputs": [
    {
     "data": {
      "text/plain": [
       "'reserved for NCS compatibility'"
      ]
     },
     "execution_count": 48,
     "metadata": {},
     "output_type": "execute_result"
    }
   ],
   "source": [
    "uuid.RESERVED_NCS"
   ]
  },
  {
   "cell_type": "markdown",
   "metadata": {},
   "source": [
    "Зарезервировано для совместимости с NCS."
   ]
  },
  {
   "cell_type": "code",
   "execution_count": 49,
   "metadata": {},
   "outputs": [
    {
     "data": {
      "text/plain": [
       "'specified in RFC 4122'"
      ]
     },
     "execution_count": 49,
     "metadata": {},
     "output_type": "execute_result"
    }
   ],
   "source": [
    "uuid.RFC_4122"
   ]
  },
  {
   "cell_type": "markdown",
   "metadata": {},
   "source": [
    "Задает макет UUID, указанный в RFC 4122 ."
   ]
  },
  {
   "cell_type": "code",
   "execution_count": 50,
   "metadata": {},
   "outputs": [
    {
     "data": {
      "text/plain": [
       "'reserved for Microsoft compatibility'"
      ]
     },
     "execution_count": 50,
     "metadata": {},
     "output_type": "execute_result"
    }
   ],
   "source": [
    "uuid.RESERVED_MICROSOFT"
   ]
  },
  {
   "cell_type": "markdown",
   "metadata": {},
   "source": [
    "Зарезервировано для совместимости с Microsoft."
   ]
  },
  {
   "cell_type": "code",
   "execution_count": 51,
   "metadata": {},
   "outputs": [
    {
     "data": {
      "text/plain": [
       "'reserved for future definition'"
      ]
     },
     "execution_count": 51,
     "metadata": {},
     "output_type": "execute_result"
    }
   ],
   "source": [
    "uuid.RESERVED_FUTURE"
   ]
  },
  {
   "cell_type": "markdown",
   "metadata": {},
   "source": [
    "Зарезервировано для будущего определения."
   ]
  },
  {
   "cell_type": "raw",
   "metadata": {},
   "source": []
  },
  {
   "cell_type": "raw",
   "metadata": {},
   "source": [
    "Модуль - json"
   ]
  },
  {
   "cell_type": "markdown",
   "metadata": {},
   "source": [
    "JSON - простой формат обмена данными, основанный на подмножестве синтаксиса JavaScript. Модуль json позволяет кодировать и декодировать данные в удобном формате."
   ]
  },
  {
   "cell_type": "raw",
   "metadata": {},
   "source": [
    "Кодирование основных объектов Python:"
   ]
  },
  {
   "cell_type": "code",
   "execution_count": 52,
   "metadata": {},
   "outputs": [
    {
     "name": "stdout",
     "output_type": "stream",
     "text": [
      "[\"foo\", {\"bar\": [\"baz\", null, 1.0, 2]}]\n",
      "{\"a\": 0, \"b\": 0, \"c\": 0}\n"
     ]
    }
   ],
   "source": [
    "import json\n",
    "print(json.dumps(['foo', {'bar': ('baz', None, 1.0, 2)}]))\n",
    "print(json.dumps({\"c\": 0, \"b\": 0, \"a\": 0}, sort_keys=True))"
   ]
  },
  {
   "cell_type": "markdown",
   "metadata": {},
   "source": [
    "Еще парочка примеров"
   ]
  },
  {
   "cell_type": "code",
   "execution_count": 53,
   "metadata": {},
   "outputs": [
    {
     "data": {
      "text/plain": [
       "'[1,2,3,{\"4\":5,\"6\":7}]'"
      ]
     },
     "execution_count": 53,
     "metadata": {},
     "output_type": "execute_result"
    }
   ],
   "source": [
    "import json\n",
    "json.dumps([1,2,3,{'4': 5, '6': 7}], separators=(',', ':'))"
   ]
  },
  {
   "cell_type": "markdown",
   "metadata": {},
   "source": [
    "Вместо separators можно использовать indent (определяет размер отступа вложенных структур)"
   ]
  },
  {
   "cell_type": "code",
   "execution_count": 54,
   "metadata": {},
   "outputs": [
    {
     "name": "stdout",
     "output_type": "stream",
     "text": [
      "{\n",
      "    \"4\": 5,\n",
      "    \"6\": 7\n",
      "}\n"
     ]
    }
   ],
   "source": [
    "import json\n",
    "print(json.dumps({'4': 5, '6': 7}, sort_keys=True, indent=4))"
   ]
  },
  {
   "cell_type": "code",
   "execution_count": null,
   "metadata": {},
   "outputs": [],
   "source": [
    "json.dump(obj, fp, skipkeys=False, ensure_ascii=True, check_circular=True, allow_nan=True, cls=None, indent=None, separators=None, default=None, sort_keys=False, **kw)"
   ]
  },
  {
   "cell_type": "markdown",
   "metadata": {},
   "source": [
    "Если skipkeys = True, то ключи словаря не базового типа (str, unicode, int, long, float, bool, None) будут проигнорированы, вместо того, чтобы вызывать исключение TypeError.\n",
    "\n",
    "Если ensure_ascii = True, все не-ASCII символы в выводе будут экранированы последовательностями \\uXXXX, и результатом будет строка, содержащая только ASCII символы. Если ensure_ascii = False, строки запишутся как есть.\n",
    "\n",
    "Если check_circular = False, то проверка циклических ссылок будет пропущена, а такие ссылки будут вызывать OverflowError.\n",
    "\n",
    "Если allow_nan = False, при попытке сериализовать значение с запятой, выходящее за допустимые пределы, будет вызываться ValueError (nan, inf, -inf) в строгом соответствии со спецификацией JSON, вместо того, чтобы использовать эквиваленты из JavaScript (NaN, Infinity, -Infinity).\n",
    "\n",
    "Если indent является неотрицательным числом, то массивы и объекты в JSON будут выводиться с этим уровнем отступа. Если уровень отступа 0, отрицательный или \"\", то вместо этого будут просто использоваться новые строки. Значение по умолчанию None отражает наиболее компактное представление. Если indent - строка, то она и будет использоваться в качестве отступа.\n",
    "\n",
    "Если sort_keys = True, то ключи выводимого словаря будут отсортированы.\n",
    "\n",
    "json.dumps(obj, skipkeys=False, ensure_ascii=True, check_circular=True, allow_nan=True, cls=None, indent=None, separators=None, default=None, sort_keys=False, **kw) - сериализует obj в строку JSON-формата."
   ]
  },
  {
   "cell_type": "code",
   "execution_count": null,
   "metadata": {},
   "outputs": [],
   "source": [
    "json.load(fp, cls=None, object_hook=None, parse_float=None, parse_int=None, parse_constant=None, object_pairs_hook=None, **kw)"
   ]
  },
  {
   "cell_type": "markdown",
   "metadata": {},
   "source": [
    "object_hook - опциональная функция, которая применяется к результату декодирования объекта (dict). Использоваться будет значение, возвращаемое этой функцией, а не полученный словарь.\n",
    "\n",
    "object_pairs_hook - опциональная функция, которая применяется к результату декодирования объекта с определённой последовательностью пар ключ/значение. Будет использован результат, возвращаемый функцией, вместо исходного словаря. Если задан так же object_hook, то приоритет отдаётся object_pairs_hook.\n",
    "\n",
    "parse_float, если определён, будет вызван для каждого значения JSON с плавающей точкой. По умолчанию, это эквивалентно float(num_str).\n",
    "\n",
    "parse_int, если определён, будет вызван для строки JSON с числовым значением. По умолчанию эквивалентно int(num_str).\n",
    "\n",
    "parse_constant, если определён, будет вызван для следующих строк: \"-Infinity\", \"Infinity\", \"NaN\". Может быть использовано для возбуждения исключений при обнаружении ошибочных чисел JSON.\n",
    "\n",
    "Если не удастся десериализовать JSON, будет возбуждено исключение ValueError."
   ]
  },
  {
   "cell_type": "markdown",
   "metadata": {},
   "source": [
    "json.loads(s, encoding=None, cls=None, object_hook=None, parse_float=None, parse_int=None, parse_constant=None, object_pairs_hook=None, **kw) - десериализует s (экземпляр str, содержащий документ JSON) в объект Python."
   ]
  },
  {
   "cell_type": "markdown",
   "metadata": {},
   "source": [
    "Класс json.JSONDecoder(object_hook=None, parse_float=None, parse_int=None, parse_constant=None, strict=True, object_pairs_hook=None) - простой декодер JSON."
   ]
  },
  {
   "cell_type": "raw",
   "metadata": {},
   "source": [
    "object\tdict\n",
    "array\tlist\n",
    "string\tstr\n",
    "number (int)\tint\n",
    "number (real)\tfloat\n",
    "true\tTrue\n",
    "false\tFalse\n",
    "null\tNone"
   ]
  },
  {
   "cell_type": "markdown",
   "metadata": {},
   "source": [
    "Класс json.JSONEncoder(skipkeys=False, ensure_ascii=True, check_circular=True, allow_nan=True, sort_keys=False, indent=None, separators=None, default=None)"
   ]
  },
  {
   "cell_type": "raw",
   "metadata": {},
   "source": [
    "Задания:"
   ]
  },
  {
   "cell_type": "markdown",
   "metadata": {},
   "source": [
    "1) Не используя библеотеку UUID создать уникальную 12-ти символьную строку, используя латиницу, цифры, а также сегодняшнюю дату и время.\n",
    "\n",
    "2)Создайте функцию в которой пользователь вводит ссылку сайта и получает данные cookie по странице.\n",
    "\n",
    "3)Решите проблему с webbrowser, так чтоб можно было несколько ссылок открывать в одном браузере, пример неправильного выполнения ниже."
   ]
  },
  {
   "cell_type": "code",
   "execution_count": null,
   "metadata": {},
   "outputs": [],
   "source": [
    "import webbrowser\n",
    "webbrowser.open_new_tab('https://vk.com')\n",
    "webbrowser.open_new_tab('яблоки')"
   ]
  }
 ],
 "metadata": {
  "kernelspec": {
   "display_name": "Python 3",
   "language": "python",
   "name": "python3"
  },
  "language_info": {
   "codemirror_mode": {
    "name": "ipython",
    "version": 3
   },
   "file_extension": ".py",
   "mimetype": "text/x-python",
   "name": "python",
   "nbconvert_exporter": "python",
   "pygments_lexer": "ipython3",
   "version": "3.7.6"
  }
 },
 "nbformat": 4,
 "nbformat_minor": 4
}
